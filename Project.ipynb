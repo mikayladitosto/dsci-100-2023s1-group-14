{
 "cells": [
  {
   "cell_type": "markdown",
   "metadata": {},
   "source": [
    "# Title: Predicting Risk of Heart Disease Using Classification #\n",
    "Group 14:\n",
    "Jackie Hagstrom,\n",
    "Hannah Reyes,\n",
    "Mikayla Ditosto,\n",
    "Minal Nijhawan "
   ]
  },
  {
   "cell_type": "markdown",
   "metadata": {},
   "source": [
    "# Introduction #\n",
    "The theme of our project is heart disease, and we will be utilizing the data set sourced from the UC Irvine Machine Learning Repository. This data encompasses information from four distinct databases: Cleveland, Hungary, Switzerland, and VA Long Beach. Our study will concentrate on the Cleveland data set. This dataset classifies the presence of heart disease in a patient on a scale of 0-4 (0 implying the absence of risk, and 4 indicating the greatest presence).\n",
    "\n",
    "Through this project, we are trying to answer the question: What variables can be used to classify a person’s risk of heart disease in Cleveland? Given that the response variable, num, is categorical, we will be solving this as a classification problem. There are a total of 14 different variables provided in the data set that can help detect the level of risk of heart disease in a patient. Please see the bottom of this document for the variable meanings."
   ]
  },
  {
   "cell_type": "markdown",
   "metadata": {},
   "source": [
    "# Preliminary exploratory data analysis #"
   ]
  },
  {
   "cell_type": "code",
   "execution_count": null,
   "metadata": {
    "id": "ZwuxfKtEZYny"
   },
   "outputs": [],
   "source": [
    "library(tidyverse)\n",
    "library(repr)\n",
    "library(tidymodels)"
   ]
  },
  {
   "cell_type": "code",
   "execution_count": null,
   "metadata": {
    "colab": {
     "base_uri": "https://localhost:8080/",
     "height": 1000
    },
    "id": "IF3JdsOhZheM",
    "outputId": "32ed6621-46ea-4052-af5b-e1bec0ff6955"
   },
   "outputs": [],
   "source": [
    "# dataset was read into R\n",
    "set.seed(2023)\n",
    "cleveland_data <- read_csv(\"https://raw.githubusercontent.com/mikayladitosto/dsci-100-2023s1-group-14/main/processed.cleveland.data\", col_names = FALSE)\n",
    "colnames(cleveland_data) <- c(\"age\",\n",
    "                              \"sex\",\n",
    "                              \"cp\",\n",
    "                              \"trestbps\",\n",
    "                              \"chol\",\n",
    "                              \"fbs\",\n",
    "                              \"restecg\",\n",
    "                              \"thalach\",\n",
    "                              \"exang\",\n",
    "                              \"oldpeak\",\n",
    "                              \"slope\",\n",
    "                              \"ca\",\n",
    "                              \"thal\",\n",
    "                              \"num\")\n",
    "\n",
    "# changed data types of columns to be able to perform classification and EDA\n",
    "cleveland_data <- cleveland_data |>\n",
    "    mutate(num = as_factor(num),\n",
    "           ca = as.numeric(ca),\n",
    "           thal = as.numeric(thal))\n",
    "\n",
    "# removed N/A (\"?\") values from the dataset\n",
    "cleveland_data <- cleveland_data |>\n",
    "    filter(age != \"?\",\n",
    "           sex != \"?\",\n",
    "           cp != \"?\",\n",
    "           trestbps != \"?\",\n",
    "           chol != \"?\",\n",
    "           fbs != \"?\",\n",
    "           restecg != \"?\",\n",
    "           thalach != \"?\",\n",
    "           exang != \"?\",\n",
    "           oldpeak != \"?\",\n",
    "           slope != \"?\",\n",
    "           ca != \"?\",\n",
    "           thal != \"?\"\n",
    "          )\n",
    "\n",
    "head(cleveland_data)"
   ]
  },
  {
   "cell_type": "markdown",
   "metadata": {},
   "source": [
    "We downloaded the Cleveland data set and uploaded it to GitHub through our shared repository. After this step, we copied the URL into R, and we were able to read it with the read_csv function. Demonstrating that the dataset can be read from the web into R. "
   ]
  },
  {
   "cell_type": "code",
   "execution_count": null,
   "metadata": {},
   "outputs": [],
   "source": [
    "# split the data into training and testing splits\n",
    "cleveland_split <- initial_split(cleveland_data, prop = 0.75, strata = num)\n",
    "cleveland_training <- training(cleveland_split)\n",
    "cleveland_testing <- testing(cleveland_split)"
   ]
  },
  {
   "cell_type": "code",
   "execution_count": null,
   "metadata": {},
   "outputs": [],
   "source": [
    "num_obs <- nrow(cleveland_training)\n",
    "cleveland_training |>\n",
    "  group_by(num) |>\n",
    "  summarize(\n",
    "    count = n(),\n",
    "    percentage = n() / num_obs * 100\n",
    "  )"
   ]
  },
  {
   "cell_type": "markdown",
   "metadata": {},
   "source": [
    "This table shows us the number of observations in each category of heart disease. There is not an equal amount of people in each category, meaning our graphs can look disproportionate. During the classification analysis in our final project, we can make the classes proportionate by using class balancing to ensure the rarer classes are equally represented."
   ]
  },
  {
   "cell_type": "code",
   "execution_count": null,
   "metadata": {},
   "outputs": [],
   "source": [
    "cleveland_mean <- cleveland_training |>\n",
    "    group_by(num) |>\n",
    "    summarise(mean_age = mean(age),\n",
    "              mean_sex = mean(sex),\n",
    "              mean_cp = mean(cp),\n",
    "              mean_trestbps = mean(trestbps),\n",
    "              mean_chol = mean(chol),\n",
    "              mean_fbs = mean(fbs),\n",
    "              mean_restecg = mean(restecg),\n",
    "              mean_thalach = mean(thalach),\n",
    "              mean_exang = mean(exang),\n",
    "              mean_oldpeak = mean(oldpeak),\n",
    "              mean_slope = mean(slope),\n",
    "              mean_ca = mean(ca),\n",
    "              mean_thal = mean(thal))\n",
    "cleveland_mean\n",
    "\n",
    "cleveland_sd <- cleveland_training |>\n",
    "    group_by(num) |>\n",
    "    summarise(sd_age = sd(age),\n",
    "              sd_sex = sd(sex),\n",
    "              sd_cp = sd(cp),\n",
    "              sd_trestbps = sd(trestbps),\n",
    "              sd_chol = sd(chol),\n",
    "              sd_fbs = sd(fbs),\n",
    "              sd_restecg = sd(restecg),\n",
    "              sd_thalach = sd(thalach),\n",
    "              sd_exang = sd(exang),\n",
    "              sd_oldpeak = sd(oldpeak),\n",
    "              sd_slope = sd(slope),\n",
    "              sd_ca = sd(ca),\n",
    "              sd_thal = sd(thal))\n",
    "cleveland_sd"
   ]
  },
  {
   "cell_type": "code",
   "execution_count": null,
   "metadata": {},
   "outputs": [],
   "source": [
    "options(repr.plot.height = 8, repr.plot.width = 10)\n",
    "age_hist <- ggplot(cleveland_training, aes(x = age, fill = num)) +\n",
    "  geom_histogram(position = \"identity\") +\n",
    "  facet_grid(rows = vars(num)) +\n",
    "  labs(x = \"Age (years)\",\n",
    "       y = \"Count\",\n",
    "       fill = \"Heart Disease Diagnosis\") +\n",
    "  ggtitle(\"Relationship Between Age and Degree of Heart Disease\") +\n",
    "  theme(text = element_text(size = 18))\n",
    "age_hist\n",
    "\n",
    "age_plot <- cleveland_training |>\n",
    "    ggplot(aes(y = age, x = num)) +\n",
    "    geom_boxplot() +\n",
    "    labs(x = \"Degree of Heart Disease\",\n",
    "         y = \"Age (years)\") +\n",
    "    theme(text = element_text(size = 15)) +\n",
    "    ggtitle(\"Relationship between Age and Heart Disease\")\n",
    "age_plot"
   ]
  },
  {
   "cell_type": "markdown",
   "metadata": {},
   "source": [
    "Based on the results from our histogram, it shows that there is no distinct relationship between age and num."
   ]
  },
  {
   "cell_type": "code",
   "execution_count": null,
   "metadata": {},
   "outputs": [],
   "source": [
    "options(repr.plot.height = 8, repr.plot.width = 8)\n",
    "thalach_plot <- cleveland_training |>\n",
    "    ggplot(aes(x = thalach, fill = num)) +\n",
    "    geom_histogram() +\n",
    "    facet_grid(rows = vars(num)) +\n",
    "    labs(x = \"Maximum Heart Rate Achieved\",\n",
    "         y = \"Count\",\n",
    "      fill = \"Heart Disease Diagnosis\") +\n",
    "    theme(text = element_text(size = 16)) +\n",
    "    ggtitle(\"Relationship between Maximum Heart Rate and Heart Disease\")\n",
    "thalach_plot\n",
    "\n",
    "thalach_plot2 <- cleveland_training |>\n",
    "    ggplot(aes(y = thalach, x = num)) +\n",
    "    geom_boxplot() +\n",
    "    labs(x = \"Degree of Heart Disease\",\n",
    "         y = \"Maximum Heart Rate Achieved\") +\n",
    "    theme(text = element_text(size = 15)) +\n",
    "    ggtitle(\"Relationship between Maximum Heart Rate and Heart Disease\")\n",
    "thalach_plot2"
   ]
  },
  {
   "cell_type": "markdown",
   "metadata": {},
   "source": [
    "? Explanation about max heart rate graph"
   ]
  },
  {
   "cell_type": "code",
   "execution_count": null,
   "metadata": {},
   "outputs": [],
   "source": [
    "chol_plot <- cleveland_training |>\n",
    "    ggplot(aes(y = chol, x = num)) +\n",
    "    geom_boxplot() +\n",
    "    labs(x = \"Degree of Heart Disease\",\n",
    "         y = \"Cholesterol Level\") +\n",
    "    theme(text = element_text(size = 15)) +\n",
    "    ggtitle(\"Relationship between Cholesterol Level and Heart Disease\")\n",
    "chol_plot"
   ]
  },
  {
   "cell_type": "markdown",
   "metadata": {},
   "source": [
    "? Explanation for chol plot"
   ]
  },
  {
   "cell_type": "code",
   "execution_count": null,
   "metadata": {},
   "outputs": [],
   "source": [
    "bp_plot <- cleveland_training |>\n",
    "    ggplot(aes(y = trestbps, x = num)) +\n",
    "    geom_boxplot() +\n",
    "    labs(x = \"Degree of Heart Disease\",\n",
    "         y = \"Resting Blood Pressure (mm Hg)\") +\n",
    "    theme(text = element_text(size = 15)) +\n",
    "    ggtitle(\"Relationship between Resting Blood Pressure and Heart Disease\")\n",
    "bp_plot"
   ]
  },
  {
   "cell_type": "code",
   "execution_count": null,
   "metadata": {},
   "outputs": [],
   "source": [
    "trestbps_thalach_plot <- cleveland_training |>\n",
    "    ggplot(aes(y = trestbps, x = thalach, color = num)) +\n",
    "    geom_point() +\n",
    "    labs(x = \"Maximum Heart Rate Achieved\",\n",
    "         y = \"Resting Blood Pressure (mm Hg)\") +\n",
    "    theme(text = element_text(size = 15)) +\n",
    "    ggtitle(\"Relationship between Resting Blood Pressure and Heart Disease\")\n",
    "trestbps_thalach_plot"
   ]
  },
  {
   "cell_type": "code",
   "execution_count": null,
   "metadata": {},
   "outputs": [],
   "source": [
    "oldpeak_plot <- cleveland_training |>\n",
    "    ggplot(aes(y = oldpeak, x = num)) +\n",
    "    geom_boxplot() +\n",
    "    labs(x = \"Degree of Heart Disease\",\n",
    "         y = \"ST Depression Induced By Exercise Relative To Rest\") +\n",
    "    theme(text = element_text(size = 15)) +\n",
    "    ggtitle(\"Relationship between Resting ST Depression Induced By Exercise and Heart Disease\")\n",
    "oldpeak_plot"
   ]
  },
  {
   "cell_type": "markdown",
   "metadata": {},
   "source": [
    "Relationship here???"
   ]
  },
  {
   "cell_type": "markdown",
   "metadata": {},
   "source": [
    "# Building the Classification Model #"
   ]
  },
  {
   "cell_type": "code",
   "execution_count": null,
   "metadata": {},
   "outputs": [],
   "source": [
    "#library(themis)\n",
    "\n",
    "cleveland_recipe <- recipe(num ~ thalach + oldpeak, data = cleveland_training) |>\n",
    "#step_upsample(num, over_ratio = 1, skip = FALSE) |>\n",
    "step_scale(all_predictors()) |>\n",
    "step_center(all_predictors())\n",
    "\n",
    "knn_spec <- nearest_neighbor(weight_func = \"rectangular\", neighbors = tune()) |>\n",
    "set_engine(\"kknn\") |>\n",
    "set_mode(\"classification\")\n",
    "\n",
    "cleveland_wkflw <- workflow() |>\n",
    "    add_recipe(cleveland_recipe) |>\n",
    "    add_model(knn_spec)\n",
    "\n",
    "\n",
    "gridvals <- tibble(neighbors = seq(from = 1, to = 100, by = 3))\n",
    "vfold_val <- vfold_cv(cleveland_training, v = 5, strata = num)\n",
    "\n",
    "cleveland_results <- cleveland_wkflw |>\n",
    "tune_grid(resamples = vfold_val, grid = gridvals) |>\n",
    "collect_metrics() |>\n",
    "filter(.metric == \"accuracy\")\n",
    "cleveland_results"
   ]
  },
  {
   "cell_type": "markdown",
   "metadata": {
    "tags": []
   },
   "source": [
    "# Expected outcomes and significance #\n",
    "From our research and findings, we expect that lower maximum heart rate (thalach) is a possible indicator/association for heart disease. We hope that our findings can validate other papers. The impact of these findings could influence the population of Cleveland to change certain practices according to our analysis. Future research related to heart disease could go down different paths, such as nutrition or  different lifestyle habits or practices. For example,  focus on different foods that help reduce cholesterol levels, which could potentially reduce heart disease. "
   ]
  },
  {
   "cell_type": "markdown",
   "metadata": {},
   "source": [
    "# Variables #\n",
    " 1. (age) -> age in years\n",
    "2. (sex) -> sex (1 = male; 0 = female)  \n",
    "3. (cp) -> cp: chest pain type\n",
    "4. (trestbps) -> resting blood pressure (in mm Hg on admission to the \n",
    "        hospital)\n",
    "5. (chol) -> serum cholesterol in mg/dl\n",
    "6. (fbs) -> (fasting blood sugar > 120 mg/dl)  (1 = true; 0 = false)\n",
    "7. (restecg) -> resting electrocardiographic results\n",
    "8. (thalach) -> maximum heart rate achieved\n",
    "9. (exang) -> exercise induced angina 1= yes, 0= no\n",
    "10. (oldpeak) -> ST depression induced by exercise relative to rest\n",
    "11. (slope) ->  the slope of the peak exercise ST segment\n",
    " Value 1: upsloping\n",
    "Value 2: flat\n",
    "Value 3: downsloping\n",
    "12. (ca) -> number of major vessels (0-3) colored by flourosopy\n",
    "13. (thal) -> 3= normal, 6= fixed defect, 7= reversible defect\n",
    "14. (num) -> (the predicted attribute) diagnosis of heart disease\n",
    "Value 0: < 50% diameter narrowing\n",
    "Value 1: > 50% diameter narrowing (in any major vessel)\n"
   ]
  },
  {
   "cell_type": "code",
   "execution_count": null,
   "metadata": {},
   "outputs": [],
   "source": []
  }
 ],
 "metadata": {
  "colab": {
   "provenance": []
  },
  "kernelspec": {
   "display_name": "R",
   "language": "R",
   "name": "ir"
  },
  "language_info": {
   "codemirror_mode": "r",
   "file_extension": ".r",
   "mimetype": "text/x-r-source",
   "name": "R",
   "pygments_lexer": "r",
   "version": "4.1.3"
  }
 },
 "nbformat": 4,
 "nbformat_minor": 4
}
